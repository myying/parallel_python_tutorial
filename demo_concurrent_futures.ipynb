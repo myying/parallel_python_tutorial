{
 "cells": [
  {
   "cell_type": "code",
   "execution_count": 39,
   "id": "a3852a7d-ca76-4e18-8502-ac0d7fc07ef8",
   "metadata": {},
   "outputs": [],
   "source": [
    "import numpy as np\n",
    "import time\n",
    "import os\n",
    "from netCDF4 import Dataset\n",
    "\n",
    "from concurrent.futures import ProcessPoolExecutor, ThreadPoolExecutor, as_completed\n"
   ]
  },
  {
   "cell_type": "code",
   "execution_count": 40,
   "id": "e26151de-ad87-4f01-b4fb-93cd468b1ad0",
   "metadata": {},
   "outputs": [],
   "source": [
    "##task functions\n",
    "\n",
    "##writing an image to file (I/O-bound)\n",
    "def write_img(job_id):\n",
    "    print(f'job {job_id} start...', flush=True)\n",
    "\n",
    "    ##mimic some delay in access\n",
    "    time.sleep(np.random.randint(3, 5))\n",
    "\n",
    "    ny, nx = 4000, 4000\n",
    "    img = np.random.normal(0, 1, (ny, nx))\n",
    "\n",
    "    os.system('mkdir -p data')\n",
    "    with Dataset(f'data/file{job_id:04d}.nc', 'w') as f:\n",
    "        f.createDimension('x', nx)\n",
    "        f.createDimension('y', ny)\n",
    "        f.createVariable('img', float, ('y', 'x'))\n",
    "        f['img'][:] = img\n",
    "\n",
    "    print(f'job {job_id} finish', flush=True)\n",
    "\n",
    "\n",
    "##smoothing an image (CPU-bound)\n",
    "def smooth_img(job_id):\n",
    "    print(f'job {job_id} start...', flush=True)\n",
    "\n",
    "    ny, nx = 2000, 2000\n",
    "    img = np.random.normal(0, 1, (ny, nx))\n",
    "\n",
    "    new_img = np.zeros(img.shape)\n",
    "    ny, nx = img.shape\n",
    "    for j in range(1, ny-1):\n",
    "        for i in range(1, nx-1):\n",
    "            new_img[j, i] = (img[j-1, i-1] + img[j-1, i] + img[j-1, i+1] +\n",
    "                             img[j,   i-1] + img[j,   i] + img[j,   i+1] +\n",
    "                             img[j+1, i-1] + img[j+1, i] + img[j+1, i+1]) / 9  \n",
    "  \n",
    "    print(f'job {job_id} finish', flush=True)\n"
   ]
  },
  {
   "cell_type": "code",
   "execution_count": 30,
   "id": "97f2a166-9021-4052-a4a8-d61f60c9a139",
   "metadata": {},
   "outputs": [
    {
     "name": "stdout",
     "output_type": "stream",
     "text": [
      "job 0 start...\n",
      "job 0 finish\n",
      "job 1 start...\n",
      "job 1 finish\n",
      "job 2 start...\n",
      "job 2 finish\n",
      "job 3 start...\n",
      "job 3 finish\n",
      "job 4 start...\n",
      "job 4 finish\n",
      "job 5 start...\n",
      "job 5 finish\n",
      "job 6 start...\n",
      "job 6 finish\n",
      "job 7 start...\n",
      "job 7 finish\n",
      "job 8 start...\n",
      "job 8 finish\n",
      "job 9 start...\n",
      "job 9 finish\n",
      "CPU times: user 1min 27s, sys: 153 ms, total: 1min 27s\n",
      "Wall time: 1min 27s\n"
     ]
    }
   ],
   "source": [
    "%%time\n",
    "\n",
    "##running the CPU-bound tasks serially\n",
    "for job_id in range(10):\n",
    "    smooth_img(job_id)\n"
   ]
  },
  {
   "cell_type": "code",
   "execution_count": 34,
   "id": "e393a12c-b419-4166-8383-129e480bb534",
   "metadata": {},
   "outputs": [
    {
     "name": "stdout",
     "output_type": "stream",
     "text": [
      "job 0 start...\n",
      "job 1 start...\n",
      "job 2 start...\n",
      "job 3 start...\n",
      "job 4 start...\n",
      "job 4 finish\n",
      "job 5 start...\n",
      "job 1 finish\n",
      "job 6 start...\n",
      "job 3 finish\n",
      "job 7 start...\n",
      "job 0 finish\n",
      "job 8 start...\n",
      "job 2 finish\n",
      "job 9 start...\n",
      "job 5 finish\n",
      "job 6 finish\n",
      "job 7 finish\n",
      "job 8 finish\n",
      "job 9 finish\n",
      "CPU times: user 1min 29s, sys: 751 ms, total: 1min 30s\n",
      "Wall time: 1min 28s\n"
     ]
    }
   ],
   "source": [
    "%%time\n",
    "\n",
    "##use multi-thread to speed up the CPU-bound tasks?\n",
    "with ThreadPoolExecutor(max_workers=5) as executor:\n",
    "    futures = []\n",
    "    for job_id in range(10):\n",
    "        future = executor.submit(smooth_img, job_id)\n",
    "        futures.append(future)\n"
   ]
  },
  {
   "cell_type": "code",
   "execution_count": 35,
   "id": "f6d3b64f-0d83-4e16-a0cc-c72dcb5b2710",
   "metadata": {},
   "outputs": [
    {
     "name": "stdout",
     "output_type": "stream",
     "text": [
      "job 3 start...job 0 start...job 2 start...job 1 start...job 4 start...\n",
      "\n",
      "\n",
      "\n",
      "\n",
      "job 3 finish\n",
      "job 5 start...\n",
      "job 2 finish\n",
      "job 4 finish\n",
      "job 6 start...\n",
      "job 7 start...\n",
      "job 0 finish\n",
      "job 8 start...\n",
      "job 1 finish\n",
      "job 9 start...\n",
      "job 5 finish\n",
      "job 8 finish\n",
      "job 6 finish\n",
      "job 7 finish\n",
      "job 9 finish\n",
      "CPU times: user 22 ms, sys: 33.2 ms, total: 55.2 ms\n",
      "Wall time: 19.2 s\n"
     ]
    }
   ],
   "source": [
    "%%time\n",
    "\n",
    "##use multi-process to speed up the CPU-bound tasks\n",
    "with ProcessPoolExecutor(max_workers=5) as executor:\n",
    "    futures = []\n",
    "    for job_id in range(10):\n",
    "        future = executor.submit(smooth_img, job_id)\n",
    "        futures.append(future)\n"
   ]
  },
  {
   "cell_type": "code",
   "execution_count": 36,
   "id": "da1d5d6c-9054-493d-819b-f6e2fb8fdb7d",
   "metadata": {},
   "outputs": [
    {
     "name": "stdout",
     "output_type": "stream",
     "text": [
      "job 0 start...\n",
      "job 0 finish\n",
      "job 1 start...\n",
      "job 1 finish\n",
      "job 2 start...\n",
      "job 2 finish\n",
      "job 3 start...\n",
      "job 3 finish\n",
      "job 4 start...\n",
      "job 4 finish\n",
      "job 5 start...\n",
      "job 5 finish\n",
      "job 6 start...\n",
      "job 6 finish\n",
      "job 7 start...\n",
      "job 7 finish\n",
      "job 8 start...\n",
      "job 8 finish\n",
      "job 9 start...\n",
      "job 9 finish\n",
      "CPU times: user 4.23 s, sys: 1.77 s, total: 6 s\n",
      "Wall time: 39.4 s\n"
     ]
    }
   ],
   "source": [
    "%%time\n",
    "\n",
    "##run the IO-bound tasks serially\n",
    "for job_id in range(10):\n",
    "    write_img(job_id)\n"
   ]
  },
  {
   "cell_type": "code",
   "execution_count": 42,
   "id": "dbf57065-4249-4f17-82da-285a7a60615d",
   "metadata": {},
   "outputs": [
    {
     "name": "stdout",
     "output_type": "stream",
     "text": [
      "job 1 start...\n",
      "job 2 start...\n",
      "job 3 start...\n",
      "job 4 start...\n",
      "job 5 start...\n",
      "job 6 start...\n",
      "job 7 start...\n",
      "job 8 start...\n",
      "job 9 start...\n",
      "job 0 finish\n",
      "job 10 start...\n",
      "job 5 finish\n",
      "job 11 start...\n",
      "job 7 finish\n",
      "job 12 start...\n",
      "job 9 finish\n",
      "job 13 start...\n",
      "job 1 finish\n",
      "job 14 start...\n",
      "job 15 start...\n",
      "job 2 finish\n",
      "job 16 start...\n",
      "job 4 finish\n",
      "job 17 start...\n",
      "job 6 finish\n",
      "job 18 start...\n",
      "job 8 finish\n",
      "job 19 start...\n",
      "job 10 finish\n",
      "job 15 finish\n",
      "job 17 finish\n",
      "job 12 finish\n",
      "job 11 finish\n",
      "job 14 finish\n",
      "job 13 finish\n",
      "job 16 finish\n",
      "job 18 finish\n",
      "job 19 finish\n",
      "CPU times: user 8.6 s, sys: 3.23 s, total: 11.8 s\n",
      "Wall time: 15 s\n"
     ]
    }
   ],
   "source": [
    "%%time\n",
    "\n",
    "##use multi-thread to speed up the IO-bound tasks\n",
    "with ThreadPoolExecutor(max_workers=10) as executor:\n",
    "    futures = []\n",
    "    for job_id in range(20):\n",
    "        future = executor.submit(write_img, job_id)\n",
    "        futures.append(future)\n",
    "\n"
   ]
  },
  {
   "cell_type": "code",
   "execution_count": 31,
   "id": "2c6b47b5-9f5d-4f94-8235-ab2ccc80ded3",
   "metadata": {},
   "outputs": [],
   "source": [
    "##to handle errors and make sure all jobs finished\n",
    "for future in as_completed(futures):\n",
    "    try:\n",
    "        result = future.result()\n",
    "    except Exception as e:\n",
    "        print(f'Error: {e}')\n"
   ]
  },
  {
   "cell_type": "code",
   "execution_count": null,
   "id": "5f4fd72f-8e19-49c0-a573-3b93c9524f5a",
   "metadata": {},
   "outputs": [],
   "source": []
  }
 ],
 "metadata": {
  "kernelspec": {
   "display_name": "Python 3 (ipykernel)",
   "language": "python",
   "name": "python3"
  },
  "language_info": {
   "codemirror_mode": {
    "name": "ipython",
    "version": 3
   },
   "file_extension": ".py",
   "mimetype": "text/x-python",
   "name": "python",
   "nbconvert_exporter": "python",
   "pygments_lexer": "ipython3",
   "version": "3.11.5"
  }
 },
 "nbformat": 4,
 "nbformat_minor": 5
}
