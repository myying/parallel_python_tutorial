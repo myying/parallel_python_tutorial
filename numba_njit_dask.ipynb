{
 "cells": [
  {
   "cell_type": "code",
   "execution_count": 1,
   "id": "ef61e61d",
   "metadata": {},
   "outputs": [],
   "source": [
    "import numpy as np\n",
    "import os\n",
    "import time\n",
    "from netCDF4 import Dataset\n",
    "from numba import njit\n",
    "\n",
    "#@njit\n",
    "def gen_img():\n",
    "    ny, nx = 1000, 1000\n",
    "    img = np.random.random((ny, nx))\n",
    "    return img\n",
    "\n",
    "#@njit\n",
    "def smooth_img(img):    \n",
    "    new_img = np.zeros(img.shape)\n",
    "    ny, nx = img.shape\n",
    "    for j in range(1, ny-1):\n",
    "        for i in range(1, nx-1):\n",
    "            new_img[j, i] = (img[j-1, i-1] + img[j-1, i] + img[j-1, i+1] +\n",
    "                             img[j,   i-1] + img[j,   i] + img[j,   i+1] +\n",
    "                             img[j+1, i-1] + img[j+1, i] + img[j+1, i+1]) / 9\n",
    "\n",
    "    return new_img\n",
    "    \n",
    "def write_img(img, job_id):\n",
    "    pass\n"
   ]
  },
  {
   "cell_type": "code",
   "execution_count": 17,
   "id": "2c353057",
   "metadata": {},
   "outputs": [
    {
     "name": "stdout",
     "output_type": "stream",
     "text": [
      "job 0\n",
      "job 1\n",
      "job 2\n",
      "job 3\n",
      "job 4\n",
      "CPU times: user 43.8 s, sys: 178 ms, total: 44 s\n",
      "Wall time: 44.3 s\n"
     ]
    }
   ],
   "source": [
    "%%time \n",
    "\n",
    "for job_id in range(5):\n",
    "    print('job', job_id)\n",
    "    img = gen_img()\n",
    "    img = smooth_img(img)\n",
    "    write_img(img, job_id)"
   ]
  },
  {
   "cell_type": "code",
   "execution_count": 18,
   "id": "3b72a147",
   "metadata": {},
   "outputs": [],
   "source": [
    "img = gen_img()"
   ]
  },
  {
   "cell_type": "code",
   "execution_count": 23,
   "id": "747f5a3f",
   "metadata": {},
   "outputs": [
    {
     "name": "stdout",
     "output_type": "stream",
     "text": [
      "CPU times: user 9.2 s, sys: 78.7 ms, total: 9.28 s\n",
      "Wall time: 9.26 s\n"
     ]
    }
   ],
   "source": [
    "%%time\n",
    "img1 = smooth_img(img)"
   ]
  },
  {
   "cell_type": "code",
   "execution_count": 22,
   "id": "0eaa1207",
   "metadata": {},
   "outputs": [
    {
     "name": "stdout",
     "output_type": "stream",
     "text": [
      "CPU times: user 379 ms, sys: 22.9 ms, total: 401 ms\n",
      "Wall time: 382 ms\n"
     ]
    }
   ],
   "source": [
    "%%time\n",
    "img1 = njit(smooth_img)(img)"
   ]
  },
  {
   "cell_type": "code",
   "execution_count": null,
   "id": "53a4a20b",
   "metadata": {},
   "outputs": [],
   "source": []
  },
  {
   "cell_type": "code",
   "execution_count": 2,
   "id": "2150e86e",
   "metadata": {},
   "outputs": [],
   "source": [
    "from dask.distributed import Client, LocalCluster, fire_and_forget\n",
    "cluster = LocalCluster(n_workers=4, threads_per_worker=2)\n",
    "client = Client(cluster)"
   ]
  },
  {
   "cell_type": "code",
   "execution_count": 6,
   "id": "b663d624-99a1-4c16-9590-2f891f97f4b7",
   "metadata": {},
   "outputs": [],
   "source": [
    "cluster.scale(4)"
   ]
  },
  {
   "cell_type": "code",
   "execution_count": 3,
   "id": "23093710-9e6e-4133-8e09-af244fb0c81f",
   "metadata": {},
   "outputs": [],
   "source": [
    "for job_id in range(200):\n",
    "    img = client.submit(gen_img, pure=False)\n",
    "    img = client.submit(smooth_img, img)\n",
    "    img = client.submit(np.fft.fft2, img)\n",
    "    future = client.submit(write_img, img, job_id)\n",
    "    fire_and_forget(future)\n"
   ]
  },
  {
   "cell_type": "code",
   "execution_count": null,
   "id": "fbf20c57-6746-49c7-b2cc-450039c903e7",
   "metadata": {},
   "outputs": [],
   "source": []
  }
 ],
 "metadata": {
  "kernelspec": {
   "display_name": "Python 3 (ipykernel)",
   "language": "python",
   "name": "python3"
  },
  "language_info": {
   "codemirror_mode": {
    "name": "ipython",
    "version": 3
   },
   "file_extension": ".py",
   "mimetype": "text/x-python",
   "name": "python",
   "nbconvert_exporter": "python",
   "pygments_lexer": "ipython3",
   "version": "3.11.5"
  }
 },
 "nbformat": 4,
 "nbformat_minor": 5
}
