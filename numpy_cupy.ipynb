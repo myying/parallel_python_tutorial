{
 "cells": [
  {
   "cell_type": "code",
   "execution_count": 1,
   "id": "b-kIE969-Syw",
   "metadata": {
    "executionInfo": {
     "elapsed": 703,
     "status": "ok",
     "timestamp": 1719077164229,
     "user": {
      "displayName": "",
      "userId": ""
     },
     "user_tz": -120
    },
    "id": "b-kIE969-Syw"
   },
   "outputs": [],
   "source": [
    "import numpy as np\n",
    "import cupy as cp\n"
   ]
  },
  {
   "cell_type": "code",
   "execution_count": 8,
   "id": "M5djERny-8_j",
   "metadata": {
    "colab": {
     "base_uri": "https://localhost:8080/"
    },
    "executionInfo": {
     "elapsed": 313,
     "status": "ok",
     "timestamp": 1719077297882,
     "user": {
      "displayName": "",
      "userId": ""
     },
     "user_tz": -120
    },
    "id": "M5djERny-8_j",
    "outputId": "4ad2d6de-e470-4de6-cec7-24d22d161bf2"
   },
   "outputs": [
    {
     "data": {
      "text/plain": [
       "array([[107,  36, 170, ..., 206,  34,  17],\n",
       "       [227, 130, 207, ..., 189,  22,  62],\n",
       "       [203,   7, 188, ...,  36,   3,  48],\n",
       "       ...,\n",
       "       [  6,  68, 104, ...,  76, 148, 173],\n",
       "       [250,  20,   9, ...,  15, 124, 114],\n",
       "       [229, 116, 204, ...,  59,  98, 108]])"
      ]
     },
     "execution_count": 8,
     "metadata": {},
     "output_type": "execute_result"
    }
   ],
   "source": [
    "array_cpu = np.random.randint(0, 255, size=(5000, 5000))\n",
    "array_cpu"
   ]
  },
  {
   "cell_type": "code",
   "execution_count": 9,
   "id": "0sm9BiYp_M1x",
   "metadata": {
    "executionInfo": {
     "elapsed": 268,
     "status": "ok",
     "timestamp": 1719077299588,
     "user": {
      "displayName": "",
      "userId": ""
     },
     "user_tz": -120
    },
    "id": "0sm9BiYp_M1x"
   },
   "outputs": [],
   "source": [
    "array_gpu = cp.asarray(array_cpu)"
   ]
  },
  {
   "cell_type": "code",
   "execution_count": 10,
   "id": "yse8yMvi_QjG",
   "metadata": {
    "colab": {
     "base_uri": "https://localhost:8080/"
    },
    "executionInfo": {
     "elapsed": 3416,
     "status": "ok",
     "timestamp": 1719077303400,
     "user": {
      "displayName": "",
      "userId": ""
     },
     "user_tz": -120
    },
    "id": "yse8yMvi_QjG",
    "outputId": "28e79ada-f60f-406f-ae9a-118e4fc6e063"
   },
   "outputs": [
    {
     "name": "stdout",
     "output_type": "stream",
     "text": [
      "38.1 ms ± 342 µs per loop (mean ± std. dev. of 7 runs, 10 loops each)\n"
     ]
    }
   ],
   "source": [
    "%%timeit\n",
    "cp.asarray(array_cpu)"
   ]
  },
  {
   "cell_type": "code",
   "execution_count": 11,
   "id": "_y84bAYL_Z-2",
   "metadata": {
    "executionInfo": {
     "elapsed": 5,
     "status": "ok",
     "timestamp": 1719077319628,
     "user": {
      "displayName": "",
      "userId": ""
     },
     "user_tz": -120
    },
    "id": "_y84bAYL_Z-2"
   },
   "outputs": [],
   "source": [
    "from scipy import fft"
   ]
  },
  {
   "cell_type": "code",
   "execution_count": 12,
   "id": "c5e_YuIn_jEg",
   "metadata": {
    "colab": {
     "base_uri": "https://localhost:8080/"
    },
    "executionInfo": {
     "elapsed": 4338,
     "status": "ok",
     "timestamp": 1719077337851,
     "user": {
      "displayName": "",
      "userId": ""
     },
     "user_tz": -120
    },
    "id": "c5e_YuIn_jEg",
    "outputId": "f4d9ba83-014c-4cb5-f8d6-c6f6c913f468"
   },
   "outputs": [
    {
     "name": "stdout",
     "output_type": "stream",
     "text": [
      "494 ms ± 8.48 ms per loop (mean ± std. dev. of 7 runs, 1 loop each)\n"
     ]
    }
   ],
   "source": [
    "%%timeit\n",
    "\n",
    "fft.fftn(array_cpu)"
   ]
  },
  {
   "cell_type": "code",
   "execution_count": 13,
   "id": "PZiUfcxf_miO",
   "metadata": {
    "executionInfo": {
     "elapsed": 286,
     "status": "ok",
     "timestamp": 1719077374030,
     "user": {
      "displayName": "",
      "userId": ""
     },
     "user_tz": -120
    },
    "id": "PZiUfcxf_miO"
   },
   "outputs": [],
   "source": [
    "from cupyx.scipy import fft as fft_gpu"
   ]
  },
  {
   "cell_type": "code",
   "execution_count": 14,
   "id": "phZW0GBZ_wTW",
   "metadata": {
    "colab": {
     "base_uri": "https://localhost:8080/"
    },
    "executionInfo": {
     "elapsed": 796,
     "status": "ok",
     "timestamp": 1719077387159,
     "user": {
      "displayName": "",
      "userId": ""
     },
     "user_tz": -120
    },
    "id": "phZW0GBZ_wTW",
    "outputId": "bc6121a8-f12a-4293-840f-a4a9bf229298"
   },
   "outputs": [
    {
     "name": "stdout",
     "output_type": "stream",
     "text": [
      "158 µs ± 67.4 µs per loop (mean ± std. dev. of 7 runs, 1 loop each)\n"
     ]
    }
   ],
   "source": [
    "%%timeit\n",
    "\n",
    "fft_gpu.fftn(array_gpu)"
   ]
  },
  {
   "cell_type": "code",
   "execution_count": 16,
   "id": "lvKiTAIQ_zbY",
   "metadata": {
    "colab": {
     "base_uri": "https://localhost:8080/"
    },
    "executionInfo": {
     "elapsed": 1550,
     "status": "ok",
     "timestamp": 1719077477512,
     "user": {
      "displayName": "",
      "userId": ""
     },
     "user_tz": -120
    },
    "id": "lvKiTAIQ_zbY",
    "outputId": "c35569ae-2bc3-490e-da72-39de70417815"
   },
   "outputs": [
    {
     "data": {
      "text/plain": [
       "True"
      ]
     },
     "execution_count": 16,
     "metadata": {},
     "output_type": "execute_result"
    }
   ],
   "source": [
    "fft_cpu = fft.fftn(array_cpu)\n",
    "fft_sent_back = cp.asnumpy(fft_gpu.fftn(array_gpu))\n",
    "np.allclose(fft_sent_back, fft_cpu)"
   ]
  },
  {
   "cell_type": "code",
   "execution_count": null,
   "id": "_jurlNBrAHNv",
   "metadata": {
    "id": "_jurlNBrAHNv"
   },
   "outputs": [],
   "source": []
  }
 ],
 "metadata": {
  "accelerator": "GPU",
  "colab": {
   "gpuType": "T4",
   "provenance": [
    {
     "file_id": "https://github.com/myying/parallel_python_tutorial/blob/main/tutorial.ipynb",
     "timestamp": 1719078525713
    }
   ]
  },
  "kernelspec": {
   "display_name": "Python 3 (ipykernel)",
   "language": "python",
   "name": "python3"
  },
  "language_info": {
   "codemirror_mode": {
    "name": "ipython",
    "version": 3
   },
   "file_extension": ".py",
   "mimetype": "text/x-python",
   "name": "python",
   "nbconvert_exporter": "python",
   "pygments_lexer": "ipython3",
   "version": "3.11.4"
  }
 },
 "nbformat": 4,
 "nbformat_minor": 5
}
