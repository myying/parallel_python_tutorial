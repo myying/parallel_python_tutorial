{
 "cells": [
  {
   "cell_type": "code",
   "execution_count": 4,
   "id": "4e77e86e-9ca6-4cae-9e64-8aca62396dd2",
   "metadata": {},
   "outputs": [],
   "source": [
    "import numpy as np\n",
    "from concurrent.futures import ProcessPoolExecutor\n",
    "import time"
   ]
  },
  {
   "cell_type": "code",
   "execution_count": 5,
   "id": "8a788b6f-b5eb-4ed5-abbd-be3fbbeae6d2",
   "metadata": {},
   "outputs": [],
   "source": [
    "def do_work(job_id):\n",
    "    print(f'job {job_id} start...\\n')\n",
    "    time.sleep(np.random.randint(5,10))\n",
    "    print(f'job {job_id} finish\\n')"
   ]
  },
  {
   "cell_type": "code",
   "execution_count": 6,
   "id": "eaf6331c-ffa6-4ccb-bf5a-ff4f4ba8e173",
   "metadata": {},
   "outputs": [
    {
     "name": "stdout",
     "output_type": "stream",
     "text": [
      "job 0 start...\n",
      "job 1 start...\n",
      "job 2 start...\n",
      "job 3 start...\n",
      "\n",
      "\n",
      "\n",
      "\n",
      "job 0 finish\n",
      "job 3 finish\n",
      "\n",
      "\n",
      "job 4 start...\n",
      "job 5 start...\n",
      "\n",
      "\n",
      "job 1 finish\n",
      "job 2 finish\n",
      "\n",
      "\n",
      "job 6 start...\n",
      "job 7 start...\n",
      "\n",
      "\n",
      "job 5 finish\n",
      "\n",
      "job 8 start...\n",
      "\n",
      "job 4 finish\n",
      "\n",
      "job 9 start...\n",
      "\n",
      "job 7 finish\n",
      "\n",
      "job 10 start...\n",
      "\n",
      "job 6 finish\n",
      "\n",
      "job 11 start...\n",
      "\n",
      "job 8 finish\n",
      "\n",
      "job 12 start...\n",
      "\n",
      "job 9 finish\n",
      "\n",
      "job 13 start...\n",
      "\n",
      "job 10 finish\n",
      "\n",
      "job 14 start...\n",
      "\n",
      "job 11 finish\n",
      "\n",
      "job 12 finish\n",
      "job 15 start...\n",
      "\n",
      "\n",
      "job 16 start...\n",
      "\n",
      "job 13 finish\n",
      "\n",
      "job 17 start...\n",
      "\n",
      "job 15 finish\n",
      "job 16 finish\n",
      "\n",
      "\n",
      "job 18 start...\n",
      "\n",
      "job 19 start...\n",
      "\n",
      "job 14 finish\n",
      "\n",
      "job 17 finish\n",
      "\n",
      "job 19 finish\n",
      "\n",
      "job 18 finish\n",
      "\n"
     ]
    }
   ],
   "source": [
    "with ProcessPoolExecutor(max_workers=4) as exe:\n",
    "    for i in range(20):\n",
    "        exe.submit(do_work, i)"
   ]
  },
  {
   "cell_type": "code",
   "execution_count": null,
   "id": "aee270c3-d519-4f8e-83bc-2cbbbb58da97",
   "metadata": {},
   "outputs": [],
   "source": []
  }
 ],
 "metadata": {
  "kernelspec": {
   "display_name": "Python 3 (ipykernel)",
   "language": "python",
   "name": "python3"
  },
  "language_info": {
   "codemirror_mode": {
    "name": "ipython",
    "version": 3
   },
   "file_extension": ".py",
   "mimetype": "text/x-python",
   "name": "python",
   "nbconvert_exporter": "python",
   "pygments_lexer": "ipython3",
   "version": "3.9.16"
  }
 },
 "nbformat": 4,
 "nbformat_minor": 5
}
